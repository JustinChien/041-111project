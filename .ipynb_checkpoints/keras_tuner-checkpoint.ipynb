{
 "cells": [
  {
   "cell_type": "code",
   "execution_count": 1,
   "id": "56a96097-7b27-4b1b-82c0-a930a17c5931",
   "metadata": {},
   "outputs": [
    {
     "name": "stdout",
     "output_type": "stream",
     "text": [
      "GPUs Avaliable[PhysicalDevice(name='/physical_device:GPU:0', device_type='GPU')]:\n"
     ]
    }
   ],
   "source": [
    "import LoadingDataset\n",
    "import utils\n",
    "import models\n",
    "import config"
   ]
  },
  {
   "cell_type": "code",
   "execution_count": 2,
   "id": "db2ded4c-03a1-4985-bb0d-690f7c24fa5b",
   "metadata": {},
   "outputs": [
    {
     "name": "stderr",
     "output_type": "stream",
     "text": [
      "100%|████████████████████████████████████████████████████████████████████████████| 1868/1868 [00:01<00:00, 1853.18it/s]\n"
     ]
    }
   ],
   "source": [
    "X_train, X_test ,y_train , y_test = LoadingDataset.loading_imgs(show_detail=False)"
   ]
  },
  {
   "cell_type": "code",
   "execution_count": 3,
   "id": "46dac334-d8b4-4657-9fda-f1318d3344b1",
   "metadata": {},
   "outputs": [],
   "source": [
    "import keras_tuner"
   ]
  },
  {
   "cell_type": "code",
   "execution_count": 5,
   "id": "105b8f50-5a93-4232-ab3d-2b1ab8d527e0",
   "metadata": {},
   "outputs": [
    {
     "name": "stdout",
     "output_type": "stream",
     "text": [
      "VGG Model Created.\n",
      "Model: \"model_1\"\n",
      "_________________________________________________________________\n",
      " Layer (type)                Output Shape              Param #   \n",
      "=================================================================\n",
      " input_4 (InputLayer)        [(None, 224, 224, 3)]     0         \n",
      "                                                                 \n",
      " Data_augmentation (Sequenti  (None, 224, 224, 3)      0         \n",
      " al)                                                             \n",
      "                                                                 \n",
      " tf.__operators__.getitem_1   (None, 224, 224, 3)      0         \n",
      " (SlicingOpLambda)                                               \n",
      "                                                                 \n",
      " tf.nn.bias_add_1 (TFOpLambd  (None, 224, 224, 3)      0         \n",
      " a)                                                              \n",
      "                                                                 \n",
      " vgg19 (Functional)          (None, None, None, 512)   20024384  \n",
      "                                                                 \n",
      " flatten_1 (Flatten)         (None, 25088)             0         \n",
      "                                                                 \n",
      " Prediction_layer (Sequentia  (None, 2)                401858    \n",
      " l)                                                              \n",
      "                                                                 \n",
      "=================================================================\n",
      "Total params: 20,426,242\n",
      "Trainable params: 401,794\n",
      "Non-trainable params: 20,024,448\n",
      "_________________________________________________________________\n"
     ]
    }
   ],
   "source": [
    "# tuner = keras_tuner.RandomSearch(\n",
    "#     hypermodel=models.create_tuner_model,\n",
    "#     objective=\"val_accuracy\",\n",
    "#     max_trials=300,\n",
    "#     executions_per_trial=1,\n",
    "#     overwrite=True,\n",
    "#     directory=\"D:\\\\111project\\\\github\\\\041-111project\\\\data\\\\keras_tuner\",\n",
    "#     project_name=\"VGG_FullAll_1201\",\n",
    "# )\n",
    "\n",
    "tuner = keras_tuner.BayesianOptimization(\n",
    "    hypermodel=models.create_tuner_model,\n",
    "    objective=\"val_accuracy\",\n",
    "    max_trials=50,\n",
    "    directory=\"D:\\\\111project\\\\github\\\\041-111project\\\\data\\\\keras_tuner\",\n",
    "    project_name=\"VGG_FullAll_1203_Bayesian_2\",\n",
    ")"
   ]
  },
  {
   "cell_type": "code",
   "execution_count": 6,
   "id": "194dc021-ebc8-4296-9e4e-daf7e70f0f56",
   "metadata": {},
   "outputs": [
    {
     "name": "stdout",
     "output_type": "stream",
     "text": [
      "Search space summary\n",
      "Default search space size: 6\n",
      "units_1 (Int)\n",
      "{'default': None, 'conditions': [], 'min_value': 16, 'max_value': 512, 'step': 16, 'sampling': None}\n",
      "units_2 (Int)\n",
      "{'default': None, 'conditions': [], 'min_value': 16, 'max_value': 512, 'step': 16, 'sampling': None}\n",
      "dropout_rate_1 (Float)\n",
      "{'default': 0.0, 'conditions': [], 'min_value': 0.0, 'max_value': 0.9, 'step': None, 'sampling': None}\n",
      "dropout_rate_2 (Float)\n",
      "{'default': 0.0, 'conditions': [], 'min_value': 0.0, 'max_value': 0.9, 'step': None, 'sampling': None}\n",
      "Learning_Rate (Float)\n",
      "{'default': 1e-08, 'conditions': [], 'min_value': 1e-08, 'max_value': 0.1, 'step': None, 'sampling': 'log'}\n",
      "use_GAP2D (Boolean)\n",
      "{'default': False, 'conditions': []}\n"
     ]
    }
   ],
   "source": [
    "tuner.search_space_summary()"
   ]
  },
  {
   "cell_type": "code",
   "execution_count": 7,
   "id": "dd3c7b31-5d7a-4120-b10e-fd7fb59d9a74",
   "metadata": {},
   "outputs": [
    {
     "name": "stdout",
     "output_type": "stream",
     "text": [
      "Trial 50 Complete [00h 02m 41s]\n",
      "val_accuracy: 0.7450980544090271\n",
      "\n",
      "Best val_accuracy So Far: 0.7504456043243408\n",
      "Total elapsed time: 02h 12m 07s\n",
      "INFO:tensorflow:Oracle triggered exit\n"
     ]
    }
   ],
   "source": [
    "tuner.search(X_train,y_train, epochs=30, validation_data=(X_test, y_test))"
   ]
  },
  {
   "cell_type": "code",
   "execution_count": 8,
   "id": "d43be464-48b8-402f-badc-1d772f4dec8f",
   "metadata": {},
   "outputs": [
    {
     "name": "stdout",
     "output_type": "stream",
     "text": [
      "Results summary\n",
      "Results in D:\\111project\\github\\041-111project\\data\\keras_tuner\\VGG_FullAll_1203_Bayesian_2\n",
      "Showing 10 best trials\n",
      "<keras_tuner.engine.objective.Objective object at 0x0000024318757A08>\n",
      "Trial summary\n",
      "Hyperparameters:\n",
      "units_1: 416\n",
      "units_2: 176\n",
      "dropout_rate_1: 0.6349849198480659\n",
      "dropout_rate_2: 0.20343296447760487\n",
      "Learning_Rate: 0.0012731056240207002\n",
      "use_GAP2D: False\n",
      "Score: 0.7504456043243408\n",
      "Trial summary\n",
      "Hyperparameters:\n",
      "units_1: 224\n",
      "units_2: 96\n",
      "dropout_rate_1: 0.30685623065899353\n",
      "dropout_rate_2: 0.0\n",
      "Learning_Rate: 0.0013377105197856453\n",
      "use_GAP2D: False\n",
      "Score: 0.7486631274223328\n",
      "Trial summary\n",
      "Hyperparameters:\n",
      "units_1: 416\n",
      "units_2: 192\n",
      "dropout_rate_1: 0.6668112215156545\n",
      "dropout_rate_2: 0.1614629835287524\n",
      "Learning_Rate: 0.0010937635751376389\n",
      "use_GAP2D: False\n",
      "Score: 0.7468805909156799\n",
      "Trial summary\n",
      "Hyperparameters:\n",
      "units_1: 512\n",
      "units_2: 16\n",
      "dropout_rate_1: 0.8172384625122132\n",
      "dropout_rate_2: 0.5136793161071332\n",
      "Learning_Rate: 0.00482007162346986\n",
      "use_GAP2D: False\n",
      "Score: 0.7450980544090271\n",
      "Trial summary\n",
      "Hyperparameters:\n",
      "units_1: 16\n",
      "units_2: 16\n",
      "dropout_rate_1: 0.43701202387392346\n",
      "dropout_rate_2: 0.0\n",
      "Learning_Rate: 0.1\n",
      "use_GAP2D: False\n",
      "Score: 0.7450980544090271\n",
      "Trial summary\n",
      "Hyperparameters:\n",
      "units_1: 416\n",
      "units_2: 144\n",
      "dropout_rate_1: 0.6793028904216725\n",
      "dropout_rate_2: 0.29193616218659685\n",
      "Learning_Rate: 0.002255217688832362\n",
      "use_GAP2D: False\n",
      "Score: 0.7450980544090271\n",
      "Trial summary\n",
      "Hyperparameters:\n",
      "units_1: 432\n",
      "units_2: 144\n",
      "dropout_rate_1: 0.5707030602732501\n",
      "dropout_rate_2: 0.20599487740742242\n",
      "Learning_Rate: 0.0012144505915846003\n",
      "use_GAP2D: False\n",
      "Score: 0.7450980544090271\n",
      "Trial summary\n",
      "Hyperparameters:\n",
      "units_1: 512\n",
      "units_2: 16\n",
      "dropout_rate_1: 0.9\n",
      "dropout_rate_2: 0.21902447177994988\n",
      "Learning_Rate: 0.1\n",
      "use_GAP2D: False\n",
      "Score: 0.7433155179023743\n",
      "Trial summary\n",
      "Hyperparameters:\n",
      "units_1: 16\n",
      "units_2: 512\n",
      "dropout_rate_1: 0.0\n",
      "dropout_rate_2: 0.0\n",
      "Learning_Rate: 0.1\n",
      "use_GAP2D: False\n",
      "Score: 0.7433155179023743\n",
      "Trial summary\n",
      "Hyperparameters:\n",
      "units_1: 16\n",
      "units_2: 48\n",
      "dropout_rate_1: 0.0\n",
      "dropout_rate_2: 0.0\n",
      "Learning_Rate: 0.1\n",
      "use_GAP2D: False\n",
      "Score: 0.7433155179023743\n"
     ]
    }
   ],
   "source": [
    "tuner.results_summary()\n",
    "# test_11/30\n",
    "# Trial summary,best VGG model:\n",
    "# Hyperparameters:\n",
    "# units: 384\n",
    "# dropout_rate: 0.8799999999999996\n",
    "# lr: 0.0008606893408844271\n",
    "# Score: 0.7754010558128357\n",
    "\n",
    "# test 12/1\n",
    "# Trial summary\n",
    "# Hyperparameters:\n",
    "# units_1: 480\n",
    "# dropout_rate_1: 0.9099999999999996\n",
    "# units_2: 192\n",
    "# dropout_rate_2: 0.2699999999999999\n",
    "# lr: 3.3863503184872456e-05\n",
    "# Score: 0.7736185193061829\n",
    "\n",
    "# test 1202 Bayesian with epoch=30, max_trial=50\n",
    "# Trial summary\n",
    "# Hyperparameters:\n",
    "# units_1: 352\n",
    "# dropout_rate_1: 0.6299999999999997\n",
    "# units_2: 224\n",
    "# dropout_rate_2: 0.6299999999999997\n",
    "# lr: 0.01\n",
    "# Score: 0.7575757503509521"
   ]
  },
  {
   "cell_type": "code",
   "execution_count": 46,
   "id": "5b55607a-80eb-45c3-869c-65b819114e2b",
   "metadata": {},
   "outputs": [],
   "source": [
    "# best_models = tuner.get_best_models(num_models=3)\n",
    "# best_model = best_models[0]\n",
    "# best_model.build(input_shape=config.IMG_SIZE)\n",
    "best_model.save(\"D:\\\\111project\\\\github\\\\041-111project\\\\data\\\\models\\\\VGG_FullAll_1203_Bayesian_2.keras\")"
   ]
  },
  {
   "cell_type": "code",
   "execution_count": 10,
   "id": "1d23a052-8f1e-450a-becc-d88929691341",
   "metadata": {},
   "outputs": [
    {
     "name": "stdout",
     "output_type": "stream",
     "text": [
      "['DenseNet-BC-121-32-no-top.h5', 'Inception_FullAll_1129_bestmodel_RandomSearch.h5', 'MobileNet_test1128_bestmodel_RandomSearch.h5', 'VGG_FullAll_1128_bestmodel_RandomSearch.h5', 'VGG_FullAll_1130_bestmodel_RandomSearch.h5', 'VGG_FullAll_1201_bestmodel_RandomSearch.h5', 'VGG_FullAll_1202_bestmodel_Bayesian.h5']\n"
     ]
    },
    {
     "name": "stdin",
     "output_type": "stream",
     "text": [
      "Pls choose the model you want: VGG_FullAll_1202_bestmodel_Bayesian.h5\n"
     ]
    },
    {
     "name": "stdout",
     "output_type": "stream",
     "text": [
      "WARNING:tensorflow:Error in loading the saved optimizer state. As a result, your model is starting with a freshly initialized optimizer.\n",
      "Model: \"model\"\n",
      "_________________________________________________________________\n",
      " Layer (type)                Output Shape              Param #   \n",
      "=================================================================\n",
      " input_2 (InputLayer)        [(None, 224, 224, 3)]     0         \n",
      "                                                                 \n",
      " tf.__operators__.getitem (S  (None, 224, 224, 3)      0         \n",
      " licingOpLambda)                                                 \n",
      "                                                                 \n",
      " tf.nn.bias_add (TFOpLambda)  (None, 224, 224, 3)      0         \n",
      "                                                                 \n",
      " vgg19 (Functional)          (None, None, None, 512)   20024384  \n",
      "                                                                 \n",
      " flatten (Flatten)           (None, 25088)             0         \n",
      "                                                                 \n",
      " Prediction_layer (Sequentia  (None, 2)                5702146   \n",
      " l)                                                              \n",
      "                                                                 \n",
      "=================================================================\n",
      "Total params: 25,726,530\n",
      "Trainable params: 5,700,994\n",
      "Non-trainable params: 20,025,536\n",
      "_________________________________________________________________\n"
     ]
    }
   ],
   "source": [
    "model = models.load_model()"
   ]
  },
  {
   "cell_type": "code",
   "execution_count": 11,
   "id": "f6a11abf-f67a-4057-abaf-239d8f26502e",
   "metadata": {},
   "outputs": [
    {
     "name": "stdout",
     "output_type": "stream",
     "text": [
      "18/18 [==============================] - 1s 44ms/step - loss: 0.5953 - accuracy: 0.7790\n",
      "18/18 [==============================] - 1s 44ms/step\n",
      "              precision    recall  f1-score   support\n",
      "\n",
      "      Benign       0.79      0.88      0.83       347\n",
      "   Malignant       0.76      0.61      0.68       214\n",
      "\n",
      "    accuracy                           0.78       561\n",
      "   macro avg       0.77      0.75      0.75       561\n",
      "weighted avg       0.78      0.78      0.77       561\n",
      "\n"
     ]
    },
    {
     "data": {
      "image/png": "[encoded data removed]",
      "text/plain": [
       "<Figure size 432x432 with 2 Axes>"
      ]
     },
     "metadata": {
      "needs_background": "light"
     },
     "output_type": "display_data"
    }
   ],
   "source": [
    "models.evaluate_model(model, X_train, X_test ,y_train , y_test)"
   ]
  },
  {
   "cell_type": "code",
   "execution_count": 27,
   "id": "0bb9ca9b-a612-404e-95a3-efa86ffcb942",
   "metadata": {},
   "outputs": [
    {
     "name": "stdout",
     "output_type": "stream",
     "text": [
      "WARNING:tensorflow:Using a while_loop for converting RngReadAndSkip\n",
      "WARNING:tensorflow:Using a while_loop for converting Bitcast\n",
      "WARNING:tensorflow:Using a while_loop for converting Bitcast\n",
      "WARNING:tensorflow:Using a while_loop for converting StatelessRandomUniformV2\n",
      "WARNING:tensorflow:Using a while_loop for converting RngReadAndSkip\n",
      "WARNING:tensorflow:Using a while_loop for converting Bitcast\n",
      "WARNING:tensorflow:Using a while_loop for converting Bitcast\n",
      "WARNING:tensorflow:Using a while_loop for converting StatelessRandomUniformV2\n",
      "VGG Model Created.\n",
      "Model: \"model\"\n",
      "_________________________________________________________________\n",
      " Layer (type)                Output Shape              Param #   \n",
      "=================================================================\n",
      " input_2 (InputLayer)        [(None, 224, 224, 3)]     0         \n",
      "                                                                 \n",
      " Data_augmentation (Sequenti  (None, 224, 224, 3)      0         \n",
      " al)                                                             \n",
      "                                                                 \n",
      " tf.__operators__.getitem (S  (None, 224, 224, 3)      0         \n",
      " licingOpLambda)                                                 \n",
      "                                                                 \n",
      " tf.nn.bias_add (TFOpLambda)  (None, 224, 224, 3)      0         \n",
      "                                                                 \n",
      " vgg19 (Functional)          (None, None, None, 512)   20024384  \n",
      "                                                                 \n",
      " flatten (Flatten)           (None, 25088)             0         \n",
      "                                                                 \n",
      " Prediction_layer (Sequentia  (None, 2)                10513138  \n",
      " l)                                                              \n",
      "                                                                 \n",
      "=================================================================\n",
      "Total params: 30,537,522\n",
      "Trainable params: 10,511,954\n",
      "Non-trainable params: 20,025,568\n",
      "_________________________________________________________________\n",
      "WARNING:tensorflow:Detecting that an object or model or tf.train.Checkpoint is being deleted with unrestored values. See the following logs for the specific values in question. To silence these warnings, use `status.expect_partial()`. See https://www.tensorflow.org/api_docs/python/tf/train/Checkpoint#restorefor details about the status object returned by the restore function.\n",
      "WARNING:tensorflow:Value in checkpoint could not be found in the restored object: (root).optimizer.iter\n",
      "WARNING:tensorflow:Value in checkpoint could not be found in the restored object: (root).optimizer.beta_1\n",
      "WARNING:tensorflow:Value in checkpoint could not be found in the restored object: (root).optimizer.beta_2\n",
      "WARNING:tensorflow:Value in checkpoint could not be found in the restored object: (root).optimizer.decay\n",
      "WARNING:tensorflow:Value in checkpoint could not be found in the restored object: (root).optimizer.learning_rate\n"
     ]
    }
   ],
   "source": [
    "best_model = tuner.get_best_models(num_models=1)[0]\n",
    "best_model.build(input_shape=config.IMG_SIZE)"
   ]
  },
  {
   "cell_type": "code",
   "execution_count": 36,
   "id": "27ac1e52-80d4-440d-ab07-3c1d3ca07000",
   "metadata": {},
   "outputs": [
    {
     "name": "stdout",
     "output_type": "stream",
     "text": [
      "Model: \"model\"\n",
      "_________________________________________________________________\n",
      " Layer (type)                Output Shape              Param #   \n",
      "=================================================================\n",
      " input_2 (InputLayer)        [(None, 224, 224, 3)]     0         \n",
      "                                                                 \n",
      " Data_augmentation (Sequenti  (None, 224, 224, 3)      0         \n",
      " al)                                                             \n",
      "                                                                 \n",
      " tf.__operators__.getitem (S  (None, 224, 224, 3)      0         \n",
      " licingOpLambda)                                                 \n",
      "                                                                 \n",
      " tf.nn.bias_add (TFOpLambda)  (None, 224, 224, 3)      0         \n",
      "                                                                 \n",
      " vgg19 (Functional)          (None, None, None, 512)   20024384  \n",
      "                                                                 \n",
      " flatten (Flatten)           (None, 25088)             0         \n",
      "                                                                 \n",
      " Prediction_layer (Sequentia  (None, 2)                10513138  \n",
      " l)                                                              \n",
      "                                                                 \n",
      "=================================================================\n",
      "Total params: 30,537,522\n",
      "Trainable params: 30,536,338\n",
      "Non-trainable params: 1,184\n",
      "_________________________________________________________________\n"
     ]
    }
   ],
   "source": [
    "# best_model.summary()\n",
    "# best_model.layers[4].summary()\n",
    "# best_model.layers[4].trainable=True\n",
    "# best_model.layers[4].summary()\n",
    "\n",
    "best_model.summary()"
   ]
  },
  {
   "cell_type": "code",
   "execution_count": 37,
   "id": "ae572f39-c837-472f-beae-c936192100dd",
   "metadata": {},
   "outputs": [],
   "source": [
    "import tensorflow as tf\n",
    "from tensorflow import keras"
   ]
  },
  {
   "cell_type": "code",
   "execution_count": 6,
   "id": "868560fe-49b8-4c31-b682-8d6627aa7c15",
   "metadata": {},
   "outputs": [
    {
     "name": "stdout",
     "output_type": "stream",
     "text": [
      "0) : DenseNet-BC-121-32-no-top.h5\n",
      "1) : Inception_FullAll_1129_bestmodel_RandomSearch.h5\n",
      "2) : MobileNet_test1128_bestmodel_RandomSearch.h5\n",
      "3) : VGG_FullAll_1128_bestmodel_RandomSearch.h5\n",
      "4) : VGG_FullAll_1130_bestmodel_RandomSearch.h5\n",
      "5) : VGG_FullAll_1201_bestmodel_RandomSearch.h5\n",
      "6) : VGG_FullAll_1202_bestmodel_Bayesian.h5\n",
      "7) : VGG_FullAll_1203_Bayesian_2.keras\n"
     ]
    },
    {
     "name": "stdin",
     "output_type": "stream",
     "text": [
      "Pls choose the model you want: 7\n"
     ]
    },
    {
     "name": "stdout",
     "output_type": "stream",
     "text": [
      "WARNING:tensorflow:Error in loading the saved optimizer state. As a result, your model is starting with a freshly initialized optimizer.\n"
     ]
    }
   ],
   "source": [
    "model = models.load_model()"
   ]
  },
  {
   "cell_type": "code",
   "execution_count": 7,
   "id": "f4482fa1-176f-4046-bf22-782d1ff8f0cc",
   "metadata": {},
   "outputs": [
    {
     "name": "stdout",
     "output_type": "stream",
     "text": [
      "Model: \"model\"\n",
      "_________________________________________________________________\n",
      " Layer (type)                Output Shape              Param #   \n",
      "=================================================================\n",
      " input_2 (InputLayer)        [(None, 224, 224, 3)]     0         \n",
      "                                                                 \n",
      " Data_augmentation (Sequenti  (None, 224, 224, 3)      0         \n",
      " al)                                                             \n",
      "                                                                 \n",
      " tf.__operators__.getitem (S  (None, 224, 224, 3)      0         \n",
      " licingOpLambda)                                                 \n",
      "                                                                 \n",
      " tf.nn.bias_add (TFOpLambda)  (None, 224, 224, 3)      0         \n",
      "                                                                 \n",
      " vgg19 (Functional)          (None, None, None, 512)   20024384  \n",
      "                                                                 \n",
      " flatten (Flatten)           (None, 25088)             0         \n",
      "                                                                 \n",
      " Prediction_layer (Sequentia  (None, 2)                10513138  \n",
      " l)                                                              \n",
      "                                                                 \n",
      "=================================================================\n",
      "Total params: 30,537,522\n",
      "Trainable params: 10,511,954\n",
      "Non-trainable params: 20,025,568\n",
      "_________________________________________________________________\n"
     ]
    }
   ],
   "source": [
    "model.summary()"
   ]
  },
  {
   "cell_type": "code",
   "execution_count": null,
   "id": "a90ac353-a649-4770-bb98-2cc6d1b67525",
   "metadata": {},
   "outputs": [],
   "source": [
    "model.compile(optimizer = tf.keras.optimizers.Adam(learning_rate= 1e-06),\n",
    "                  loss = tf.keras.losses.categorical_crossentropy, \n",
    "                  metrics=[\"accuracy\"])\n",
    "\n",
    "best_model.fit(X_train,y_train,epochs=20,validation_data=(X_test,y_test),initial_epoch=30)"
   ]
  }
 ],
 "metadata": {
  "kernelspec": {
   "display_name": "Python 3 (ipykernel)",
   "language": "python",
   "name": "python3"
  },
  "language_info": {
   "codemirror_mode": {
    "name": "ipython",
    "version": 3
   },
   "file_extension": ".py",
   "mimetype": "text/x-python",
   "name": "python",
   "nbconvert_exporter": "python",
   "pygments_lexer": "ipython3",
   "version": "3.7.13"
  }
 },
 "nbformat": 4,
 "nbformat_minor": 5
}
