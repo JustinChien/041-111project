{
 "cells": [
  {
   "cell_type": "code",
   "execution_count": 1,
   "id": "9857ebcc-bbee-4d7b-b44a-ad8341c97457",
   "metadata": {},
   "outputs": [
    {
     "name": "stdout",
     "output_type": "stream",
     "text": [
      "GPUs Avaliable[PhysicalDevice(name='/physical_device:GPU:0', device_type='GPU')]:\n"
     ]
    }
   ],
   "source": [
    "import LoadingDataset\n",
    "import utils\n",
    "import models\n",
    "import config"
   ]
  },
  {
   "cell_type": "code",
   "execution_count": 2,
   "id": "745ca529-aee8-4ba4-945e-df5f63248bcf",
   "metadata": {},
   "outputs": [
    {
     "name": "stderr",
     "output_type": "stream",
     "text": [
      "100%|███████████████████████████████████████████████████████████████████████████████| 854/854 [00:00<00:00, 913.61it/s]\n"
     ]
    }
   ],
   "source": [
    "X_train, X_test ,y_train , y_test = LoadingDataset.loading_imgs( \\\n",
    "                        IMG_DIR=config.IMG_DIR, IMG_SIZE=config.IMG_SIZE, data_type=config.data_type, show_detail=False)"
   ]
  },
  {
   "cell_type": "code",
   "execution_count": 3,
   "id": "157c290a-0aff-4d0a-a67b-e64e2a30525f",
   "metadata": {
    "tags": []
   },
   "outputs": [
    {
     "name": "stdout",
     "output_type": "stream",
     "text": [
      "MobileNet Model Created.\n",
      "Model: \"model\"\n",
      "_________________________________________________________________\n",
      " Layer (type)                Output Shape              Param #   \n",
      "=================================================================\n",
      " input_2 (InputLayer)        [(None, 224, 224, 3)]     0         \n",
      "                                                                 \n",
      " Data_augmentation (Sequenti  (None, 224, 224, 3)      0         \n",
      " al)                                                             \n",
      "                                                                 \n",
      " tf.math.truediv (TFOpLambda  (None, 224, 224, 3)      0         \n",
      " )                                                               \n",
      "                                                                 \n",
      " tf.math.subtract (TFOpLambd  (None, 224, 224, 3)      0         \n",
      " a)                                                              \n",
      "                                                                 \n",
      " mobilenetv2_1.00_224 (Funct  (None, 7, 7, 1280)       2257984   \n",
      " ional)                                                          \n",
      "                                                                 \n",
      " flatten (Flatten)           (None, 62720)             0         \n",
      "                                                                 \n",
      " Prediction_layer (Sequentia  (None, 2)                16091266  \n",
      " l)                                                              \n",
      "                                                                 \n",
      "=================================================================\n",
      "Total params: 18,349,250\n",
      "Trainable params: 16,090,498\n",
      "Non-trainable params: 2,258,752\n",
      "_________________________________________________________________\n"
     ]
    }
   ],
   "source": [
    "model = models.create_model(config.model_name, config.data_class, config.IMG_SIZE, config.show_detail)"
   ]
  },
  {
   "cell_type": "code",
   "execution_count": 4,
   "id": "86616624-6847-4fb5-ae81-609e9701973d",
   "metadata": {
    "tags": []
   },
   "outputs": [
    {
     "name": "stdout",
     "output_type": "stream",
     "text": [
      "9/9 [==============================] - 5s 118ms/step - loss: 0.7494 - accuracy: 0.6342\n",
      "initial loss: 0.75\n",
      "initial accuracy: 0.63\n",
      "Epoch 1/10\n",
      "WARNING:tensorflow:Using a while_loop for converting RngReadAndSkip\n",
      "WARNING:tensorflow:Using a while_loop for converting Bitcast\n",
      "WARNING:tensorflow:Using a while_loop for converting Bitcast\n",
      "WARNING:tensorflow:Using a while_loop for converting StatelessRandomUniformV2\n",
      "WARNING:tensorflow:Using a while_loop for converting RngReadAndSkip\n",
      "WARNING:tensorflow:Using a while_loop for converting Bitcast\n",
      "WARNING:tensorflow:Using a while_loop for converting Bitcast\n",
      "WARNING:tensorflow:Using a while_loop for converting StatelessRandomUniformV2\n",
      "19/19 [==============================] - 9s 288ms/step - loss: 1.0245 - accuracy: 0.4975 - val_loss: 0.6254 - val_accuracy: 0.6381\n",
      "Epoch 2/10\n",
      "19/19 [==============================] - 5s 272ms/step - loss: 0.9765 - accuracy: 0.5360 - val_loss: 0.6060 - val_accuracy: 0.6732\n",
      "Epoch 3/10\n",
      "19/19 [==============================] - 5s 258ms/step - loss: 0.8367 - accuracy: 0.6348 - val_loss: 0.6127 - val_accuracy: 0.6693\n",
      "Epoch 4/10\n",
      "19/19 [==============================] - 5s 247ms/step - loss: 0.9217 - accuracy: 0.5930 - val_loss: 0.6237 - val_accuracy: 0.6693\n",
      "Epoch 5/10\n",
      "19/19 [==============================] - 5s 261ms/step - loss: 0.8647 - accuracy: 0.6047 - val_loss: 0.6628 - val_accuracy: 0.6420\n",
      "Epoch 6/10\n",
      "19/19 [==============================] - 5s 249ms/step - loss: 0.8750 - accuracy: 0.5997 - val_loss: 0.7128 - val_accuracy: 0.6576\n",
      "Epoch 7/10\n",
      "19/19 [==============================] - 5s 263ms/step - loss: 0.8006 - accuracy: 0.6449 - val_loss: 0.7204 - val_accuracy: 0.6459\n",
      "Epoch 8/10\n",
      "19/19 [==============================] - 5s 270ms/step - loss: 0.7768 - accuracy: 0.6683 - val_loss: 0.7817 - val_accuracy: 0.6265\n",
      "Epoch 9/10\n",
      "19/19 [==============================] - 5s 262ms/step - loss: 0.8166 - accuracy: 0.6432 - val_loss: 0.7951 - val_accuracy: 0.6265\n",
      "Epoch 10/10\n",
      "19/19 [==============================] - 5s 257ms/step - loss: 0.7976 - accuracy: 0.6432 - val_loss: 0.7740 - val_accuracy: 0.6498\n",
      "9/9 [==============================] - 1s 72ms/step\n"
     ]
    }
   ],
   "source": [
    "history,predictions = models.run_through(model, X_train, y_train, X_test, y_test, \\\n",
    "                                         lr=config.learning_rate, epochs=config.epochs, BATCH_SIZE=config.batch_size)\n",
    "\n",
    "# # If want to do it step by step use the code below\n",
    "# model.compile(optimizer = tf.keras.optimizers.Adam(learning_rate= learning_rate),loss = tf.keras.losses.binary_crossentropy, metrics=[\"accuracy\"])\n",
    "# loss0,accuracy0 = model.evaluate(x=X_test,y=y_test,batch_size=BATCH_SIZE)\n",
    "# print(\"initial loss: {:.2f}\".format(loss0))\n",
    "# print(\"initial accuracy: {:.2f}\".format(accuracy0))\n",
    "# history = model.fit(x=X_train, y=y_train, epochs=epochs, validation_data=(X_test,y_test), batch_size=BATCH_SIZE, shuffle=True)\n",
    "# predictions = model.predict(x=X_test)"
   ]
  },
  {
   "cell_type": "code",
   "execution_count": 7,
   "id": "808548d4-7f5a-403b-9978-ae3baa679cc7",
   "metadata": {},
   "outputs": [
    {
     "ename": "NameError",
     "evalue": "name 'utils' is not defined",
     "output_type": "error",
     "traceback": [
      "\u001b[1;31m---------------------------------------------------------------------------\u001b[0m",
      "\u001b[1;31mNameError\u001b[0m                                 Traceback (most recent call last)",
      "\u001b[1;32m~\\AppData\\Local\\Temp\\ipykernel_16528\\72936808.py\u001b[0m in \u001b[0;36m<module>\u001b[1;34m\u001b[0m\n\u001b[1;32m----> 1\u001b[1;33m \u001b[0mmodels\u001b[0m\u001b[1;33m.\u001b[0m\u001b[0mshow_performance\u001b[0m\u001b[1;33m(\u001b[0m\u001b[0mhistory\u001b[0m\u001b[1;33m,\u001b[0m \u001b[0mpredictions\u001b[0m\u001b[1;33m,\u001b[0m \u001b[0mX_train\u001b[0m\u001b[1;33m,\u001b[0m \u001b[0my_train\u001b[0m\u001b[1;33m,\u001b[0m \u001b[0mX_test\u001b[0m\u001b[1;33m,\u001b[0m \u001b[0my_test\u001b[0m\u001b[1;33m)\u001b[0m\u001b[1;33m\u001b[0m\u001b[1;33m\u001b[0m\u001b[0m\n\u001b[0m",
      "\u001b[1;32mD:\\111project\\github\\041-111project\\models.py\u001b[0m in \u001b[0;36mshow_performance\u001b[1;34m(history, predictions, X_train, y_train, X_test, y_test, show_detail)\u001b[0m\n\u001b[0;32m    196\u001b[0m     \u001b[0my_true\u001b[0m\u001b[1;33m=\u001b[0m\u001b[0mnp\u001b[0m\u001b[1;33m.\u001b[0m\u001b[0margmax\u001b[0m\u001b[1;33m(\u001b[0m\u001b[0my_test\u001b[0m\u001b[1;33m,\u001b[0m\u001b[0maxis\u001b[0m\u001b[1;33m=\u001b[0m\u001b[1;33m-\u001b[0m\u001b[1;36m1\u001b[0m\u001b[1;33m)\u001b[0m\u001b[1;33m\u001b[0m\u001b[1;33m\u001b[0m\u001b[0m\n\u001b[0;32m    197\u001b[0m     \u001b[0mcm\u001b[0m \u001b[1;33m=\u001b[0m \u001b[0mconfusion_matrix\u001b[0m\u001b[1;33m(\u001b[0m\u001b[0my_true\u001b[0m\u001b[1;33m=\u001b[0m\u001b[0my_true\u001b[0m\u001b[1;33m,\u001b[0m\u001b[0my_pred\u001b[0m\u001b[1;33m=\u001b[0m\u001b[0my_pred\u001b[0m\u001b[1;33m)\u001b[0m\u001b[1;33m\u001b[0m\u001b[1;33m\u001b[0m\u001b[0m\n\u001b[1;32m--> 198\u001b[1;33m     \u001b[0mcm_container\u001b[0m \u001b[1;33m=\u001b[0m \u001b[0mutils\u001b[0m\u001b[1;33m.\u001b[0m\u001b[0mconvert_cm_to_container\u001b[0m\u001b[1;33m(\u001b[0m\u001b[0mcm\u001b[0m\u001b[1;33m)\u001b[0m\u001b[1;33m\u001b[0m\u001b[1;33m\u001b[0m\u001b[0m\n\u001b[0m\u001b[0;32m    199\u001b[0m     \u001b[0mreport\u001b[0m \u001b[1;33m=\u001b[0m \u001b[0mclassification_report\u001b[0m\u001b[1;33m(\u001b[0m\u001b[0my_true\u001b[0m\u001b[1;33m=\u001b[0m\u001b[0my_true\u001b[0m\u001b[1;33m,\u001b[0m\u001b[0my_pred\u001b[0m\u001b[1;33m=\u001b[0m\u001b[0my_pred\u001b[0m\u001b[1;33m,\u001b[0m\u001b[0mtarget_names\u001b[0m\u001b[1;33m=\u001b[0m\u001b[0mDATA_CLASS\u001b[0m\u001b[1;33m)\u001b[0m\u001b[1;33m\u001b[0m\u001b[1;33m\u001b[0m\u001b[0m\n\u001b[0;32m    200\u001b[0m     \u001b[0macc\u001b[0m \u001b[1;33m=\u001b[0m \u001b[0mhistory\u001b[0m\u001b[1;33m.\u001b[0m\u001b[0mhistory\u001b[0m\u001b[1;33m[\u001b[0m\u001b[1;34m'accuracy'\u001b[0m\u001b[1;33m]\u001b[0m\u001b[1;33m\u001b[0m\u001b[1;33m\u001b[0m\u001b[0m\n",
      "\u001b[1;31mNameError\u001b[0m: name 'utils' is not defined"
     ]
    }
   ],
   "source": [
    "models.show_performance(history, predictions, X_train, y_train, X_test, y_test, \\\n",
    "                        save_in_csv=False, note=\"\")"
   ]
  },
  {
   "cell_type": "code",
   "execution_count": null,
   "id": "29ee9054-c55f-4bbf-a969-2f3c4a23d945",
   "metadata": {
    "tags": []
   },
   "outputs": [],
   "source": [
    "# utils.show_report(-1,show_plot=True)"
   ]
  }
 ],
 "metadata": {
  "kernelspec": {
   "display_name": "Python 3 (ipykernel)",
   "language": "python",
   "name": "python3"
  },
  "language_info": {
   "codemirror_mode": {
    "name": "ipython",
    "version": 3
   },
   "file_extension": ".py",
   "mimetype": "text/x-python",
   "name": "python",
   "nbconvert_exporter": "python",
   "pygments_lexer": "ipython3",
   "version": "3.7.13"
  }
 },
 "nbformat": 4,
 "nbformat_minor": 5
}
