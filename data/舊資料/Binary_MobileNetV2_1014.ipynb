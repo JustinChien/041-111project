{
 "cells": [
  {
   "cell_type": "code",
   "execution_count": 1,
   "id": "c7b878ac-4e53-44ba-bf77-b2d57c655536",
   "metadata": {},
   "outputs": [],
   "source": [
    "import tensorflow as tf\n",
    "from tensorflow import keras\n",
    "from tensorflow.keras.models import Sequential\n",
    "from sklearn.metrics import confusion_matrix\n",
    "from tensorflow.keras.preprocessing.image import ImageDataGenerator\n",
    "import matplotlib.pyplot as plt\n",
    "\n",
    "from sklearn.metrics import classification_report\n",
    "from sklearn.metrics import confusion_matrix\n",
    "\n",
    "import prettytable as pt\n",
    "import pandas as pd\n",
    "import numpy as np\n",
    "\n",
    "import itertools\n",
    "import os\n",
    "import time"
   ]
  },
  {
   "cell_type": "code",
   "execution_count": 2,
   "id": "d41b41c8-9736-4f1e-8de5-f4430c547344",
   "metadata": {},
   "outputs": [
    {
     "name": "stdout",
     "output_type": "stream",
     "text": [
      "GPUs Avaliable[PhysicalDevice(name='/physical_device:GPU:0', device_type='GPU')]:\n",
      "Last edit:簡名駿\n",
      "Time:Mon Oct 17 20:44:01 2022\n"
     ]
    }
   ],
   "source": [
    "#GPU FOR TRAINGING\n",
    "physical_devices = tf.config.experimental.list_physical_devices('GPU')\n",
    "print(\"GPUs Avaliable{}:\".format(physical_devices))\n",
    "tf.config.experimental.set_memory_growth(physical_devices[0],True)\n",
    "\n",
    "editor = \"簡名駿\"\n",
    "print(\"Last edit:{}\".format(editor))\n",
    "print(\"Time:{}\".format(time.ctime(time.time())))\n",
    "\n",
    "#func for ploting multilabel classification is not finished yet"
   ]
  },
  {
   "cell_type": "code",
   "execution_count": 3,
   "id": "55304bd9-454b-48f8-9051-3fe132d4da48",
   "metadata": {},
   "outputs": [],
   "source": [
    "#Variables and Constant\n",
    "DATA = \"MLO\"\n",
    "BATCH_SIZE = 32\n",
    "IMG_SIZE = (224,224)\n",
    "DATA_CLASS = ['Benign','Malignant']\n",
    "\n",
    "model_name = \"MobileNet\"\n",
    "learning_rate = 1e-5\n",
    "epochs = 10\n",
    "show_detail = True\n",
    "\n",
    "f_columns = [\"Date\",\"Model\",\"Batch_size\",\"epochs\",\"Learning_rate\",\"Training_Report\",\"Confusion_Metrix\"]\n",
    "columns = [\"Date\",\"Model\",\"Batch_size\",\"epochs\",\"Learning_rate\"]\n",
    "# csv_path = \"D:\\\\111project\\\\For_Jupyter\\\\data\\\\history_report.csv\"\n",
    "csv_path = \"D:\\\\GitHub\\\\041-111project\\\\data\\\\history_report_jc.csv\""
   ]
  },
  {
   "cell_type": "code",
   "execution_count": 4,
   "id": "2f837a52-a08a-4b63-80c7-8b3d7a859945",
   "metadata": {
    "jupyter": {
     "source_hidden": true
    },
    "tags": []
   },
   "outputs": [],
   "source": [
    "#define some functions\n",
    "\n",
    "def join_path(root:str , *params)-> str:\n",
    "    # give root and folders / files will return a path in str\n",
    "    temp = root\n",
    "    for p in params:\n",
    "        temp = os.path.join(temp,p)\n",
    "    return temp\n",
    "\n",
    "def plot_confusion_metrix(cm, classes\n",
    "                          ,normalize = False\n",
    "                          ,title='Confusion matrix'\n",
    "                          ,cmap=plt.cm.Blues):\n",
    "    \n",
    "    plt.figure(figsize=(6,6))\n",
    "    plt.imshow(cm,interpolation='nearest',cmap=cmap)\n",
    "    plt.title(title)\n",
    "    plt.colorbar()\n",
    "    tick_marks = np.arange(len(classes))\n",
    "    plt.xticks(tick_marks,classes,rotation=45,fontsize=12)\n",
    "    plt.yticks(tick_marks,classes,fontsize=12)\n",
    "    if normalize :\n",
    "        cm = cm.astype('float') / cm.sum(axis=1)[:,np/newaxis]\n",
    "        # print(\"Normalized confusion matrix\")\n",
    "    else :\n",
    "        # print(\"Confusion matrix\")\n",
    "        pass\n",
    "    # print(cm)\n",
    "    \n",
    "    thresh = cm.max() / 2.\n",
    "    for i , j in itertools.product(range(cm.shape[0]),range(cm.shape[1])): \n",
    "        plt.text(j,i,cm[i,j],\n",
    "                ha = \"center\",\n",
    "                fontsize = 15,\n",
    "                color = \"orange\" if cm[i,j]> thresh else \"purple\")\n",
    "        \n",
    "    plt.tight_layout()\n",
    "    plt.ylabel('True Label')\n",
    "    plt.xlabel('Predicted Label')\n",
    "\n",
    "def plot_multi_label_confusion_metrix(cm,classes,cmap=plt.cm.Blues) -> None:\n",
    "    #give the whole ConfusionMetrix and classes and it will plot it out\n",
    "    fig,ax = plt.subplots(2,int(len(cm)/2))\n",
    "    count = 0\n",
    "    for a,b in itertools.product(range(2),range(int(len(cm)/2))):\n",
    "\n",
    "\n",
    "        thresh = cm[count].max() / 2.\n",
    "        temp_cm = cm[count]\n",
    "        class_ = classes[count]\n",
    "\n",
    "        # plt.figure(figsize=(6,6))\n",
    "        ax[a][b].imshow(temp_cm,interpolation='nearest',cmap=plt.cm.Blues)\n",
    "        ax[a][b].set_title(class_)\n",
    "\n",
    "        if(a == 0 and b==0):\n",
    "            ax[a][b].set_yticks(np.arange(2),[\"TrueNegative , FalsePositive\",\"FalseNegative , TruePositive \"])\n",
    "        else:\n",
    "            ax[a][b].set_yticks([])\n",
    "\n",
    "        ax[a][b].set_xticks([])\n",
    "        for i,j in itertools.product(range(len(temp_cm[:][0])),range(len(temp_cm[0][:]))):\n",
    "                ax[a][b].text(j,i,temp_cm[i][j],\n",
    "                        ha = \"center\",\n",
    "                        color = \"orange\" if temp_cm[i,j]> thresh else \"purple\")\n",
    "        count += 1\n",
    "\n",
    "def plot_acc_loss(acc,val_acc,loss,val_loss):\n",
    "    #give values from fit history and it will plot out a graph\n",
    "    plt.figure(figsize=(8,8))\n",
    "\n",
    "    plt.subplot(2,1,1)\n",
    "    plt.plot(acc,label=\"Trainging Accuracy\")\n",
    "    plt.plot(val_acc,label=\"Validation Accuracy\")\n",
    "    plt.legend(loc=\"upper left\")\n",
    "    plt.ylabel(\"Accuracy\")\n",
    "    plt.ylim([min(plt.ylim()),1])\n",
    "    plt.title(\"Training and Validation Accuracy\")\n",
    "\n",
    "    plt.subplot(2,1,2)\n",
    "    plt.plot(loss,label=\"Trainging Loss\")\n",
    "    plt.plot(val_loss,label=\"Validation Loss\")\n",
    "    plt.legend(loc=\"upper right\")\n",
    "    plt.ylabel(\"Cross Entropy\")\n",
    "    # plt.ylim([0,1.0]) #too high so let's not use this now\n",
    "    plt.title(\"Trainging and Validation Loss\")\n",
    "    plt.xlabel(\"epoch\")\n",
    "    plt.show()\n",
    "\n",
    "def plot_imgs(lots_imgs,lots_labels):\n",
    "    # give imgs and lables,it will plot it out\n",
    "    imgs = lots_imgs[:9]\n",
    "    labels = lots_labels[:9]\n",
    "    \n",
    "    plt.figure(figsize=(15,15))\n",
    "    for i in range(len(imgs)):\n",
    "        ax = plt.subplot(3,3,i+1)\n",
    "        plt.imshow(imgs[i])\n",
    "        plt.title(labels[i])\n",
    "        plt.axis(\"off\")\n",
    "\n",
    "def convert_cm_to_container(cm):\n",
    "    #give it a Multilabel Confusion Metrix and it will store it in a str, ez for storing in csv\n",
    "    cm_container = str()\n",
    "    if len(cm)==2:\n",
    "        for i ,j in itertools.product(range(len(cm)),range(2)):\n",
    "            cm_container += \"{}_\".format(cm[i,j])\n",
    "    else:\n",
    "        for i,j,k in itertools.product(range(len(cm)),range(2),range(2)):\n",
    "            cm_container += \"{}_\".format(cm[i,j,k])\n",
    "    return cm_container\n",
    "\n",
    "def convert_container_to_cm(cm_container):\n",
    "    #give it the str generate from function above,will return what it suppose to look like originally\n",
    "    temp = cm_container.split(sep=\"_\")\n",
    "    size = int((len(temp)-1)/4)\n",
    "    # print(size)\n",
    "    if size == 4 or size == 6:\n",
    "        c_cm = np.empty((size,2,2))\n",
    "        count = -1\n",
    "        for i,j,k in itertools.product(range(size),range(2),range(2)):\n",
    "            count += 1\n",
    "            # print(count)\n",
    "            c_cm[i,j,k] = temp[count]\n",
    "    elif size == 1:\n",
    "        c_cm = np.empty((2,2))\n",
    "        count = -1\n",
    "        for i,j in itertools.product(range(2),range(2)):\n",
    "            count += 1\n",
    "            # print(count)\n",
    "            c_cm[i,j] = temp[count]\n",
    "    return c_cm\n",
    "\n",
    "def convert_list_to_str(list_:list) -> str:\n",
    "    temp = str()\n",
    "    for item in list_:\n",
    "        temp += \"{}_\".format(item)\n",
    "    return temp\n",
    "\n",
    "def convert_str_to_list(str_:str) -> list:\n",
    "    list_ = list()\n",
    "    str_ = str_.split(sep='_')\n",
    "    for item in str_[:-1]:\n",
    "        list_.append(float(item))\n",
    "    return list_\n",
    "\n",
    "def show_report(*nums, show_plot:bool=False):\n",
    "    #give nums to choose which data to show,CAN give multiplay nums at once\n",
    "    #if want to print out all history better use for loop with it\n",
    "    #show_plot will control whether to plot ConfusionMetrix or not\n",
    "    temp = list()\n",
    "    history_report = pd.read_csv(csv_path)\n",
    "\n",
    "    table = pt.PrettyTable()\n",
    "    table.set_style(pt.DOUBLE_BORDER)\n",
    "    table.hrules=pt.ALL\n",
    "    temp.append('index')\n",
    "    for num in nums:\n",
    "        temp.append(num)\n",
    "    table.field_names = temp\n",
    "\n",
    "    for column in [\"Date\",\"Model\",\"Batch_size\",\"epochs\",\"Learning_rate\",\"Training_Report\"]:\n",
    "        temp = []\n",
    "        temp.append(column)\n",
    "        for num in nums:\n",
    "            temp.append(history_report.iloc[num][column])\n",
    "        table.add_row(temp)\n",
    "    print(table)\n",
    "\n",
    "    if show_plot == True:\n",
    "        for num in nums:\n",
    "            current_cm = convert_container_to_cm(history_report.iloc[num]['Confusion_Metrix'])\n",
    "            # print(current_cm)\n",
    "            if len(current_cm)==6:\n",
    "                plot_multi_label_confusion_metrix(cm=current_cm,classes=['Benign', 'CC', 'Calc', 'MLO', 'Mass', 'Melignant'])\n",
    "            elif len(current_cm)==4:\n",
    "                plot_multi_label_confusion_metrix(cm=current_cm,classes=['Benign', 'Calc', 'Mass', 'Melignant'])\n",
    "            elif len(current_cm)==2:\n",
    "                plot_confusion_metrix(cm=current_cm,classes=['Benign','Malignant'])\n",
    "                \n",
    "            current_row = history_report.iloc[num]\n",
    "            if current_row.isnull()['acc']==True:\n",
    "                print('index:{} have no acuracy data for plotting accuracy.'.format(num))\n",
    "                continue\n",
    "            print(\"index:{}\".format(num))\n",
    "            acc = convert_str_to_list(current_row['acc'])\n",
    "            val_acc = convert_str_to_list(current_row['val_acc'])\n",
    "            loss = convert_str_to_list(current_row['loss'])\n",
    "            val_loss = convert_str_to_list(current_row['val_loss'])\n",
    "            # print(acc,'\\n',val_acc,'\\n',loss,'\\n',val_loss)\n",
    "            plot_acc_loss(acc=acc,val_acc=val_acc,loss=loss,val_loss=val_loss)\n",
    "                \n",
    "            "
   ]
  },
  {
   "cell_type": "code",
   "execution_count": 44,
   "id": "e46e7fc4-845a-4535-9aca-9096b28cec58",
   "metadata": {},
   "outputs": [
    {
     "name": "stdout",
     "output_type": "stream",
     "text": [
      "Found 1482 images belonging to 2 classes.\n",
      "Found 369 images belonging to 2 classes.\n"
     ]
    }
   ],
   "source": [
    "#import CBIS-DDSM Cropped image data\n",
    "cc_path = \"D:\\\\GitHub\\\\041-111project\\\\data\\\\Binary_\\\\CC\"\n",
    "mlo_path = \"D:\\\\GitHub\\\\041-111project\\\\data\\\\Binary_\\\\MLO\"\n",
    "\n",
    "if DATA == \"CC\":\n",
    "    data_path = cc_path\n",
    "elif DATA == \"MLO\":\n",
    "    data_path = mlo_path\n",
    "\n",
    "train_path = os.path.join(data_path,\"train\")\n",
    "valid_path = os.path.join(data_path,\"valid\")\n",
    "\n",
    "train_dataset = ImageDataGenerator().flow_from_directory(directory=train_path,target_size=IMG_SIZE,color_mode=\"rgb\", \\\n",
    "                                                    classes=DATA_CLASS,batch_size=BATCH_SIZE, shuffle=True)\n",
    "valid_dataset = ImageDataGenerator().flow_from_directory(directory=valid_path,target_size=IMG_SIZE,color_mode=\"rgb\", \\\n",
    "                                                    classes=DATA_CLASS,batch_size=BATCH_SIZE, shuffle=True)"
   ]
  },
  {
   "cell_type": "code",
   "execution_count": 7,
   "id": "cf1aba8d-cac9-454b-b053-bb7f6777a62f",
   "metadata": {
    "tags": []
   },
   "outputs": [],
   "source": [
    "# test if data import correctly\n",
    "\n",
    "# imgs , labels = next(train_dataset)\n",
    "# imgs = imgs/255.\n",
    "# plot_imgs(imgs,labels)\n",
    "\n",
    "# imgs_1,labels_1 = next(valid_dataset)\n",
    "# imgs_1 = imgs_1/255.\n",
    "# plot_imgs(imgs_1,labels_1)"
   ]
  },
  {
   "cell_type": "code",
   "execution_count": 9,
   "id": "7c493f5c-50e1-4177-a775-ea3d0b768b13",
   "metadata": {},
   "outputs": [
    {
     "name": "stdout",
     "output_type": "stream",
     "text": [
      "MobileNet Model Created.\n"
     ]
    }
   ],
   "source": [
    "# Data Augmentation\n",
    "data_augmentation = tf.keras.Sequential([\n",
    "    tf.keras.layers.RandomFlip(\"horizontal_and_vertical\"),\n",
    "    tf.keras.layers.RandomRotation(0.2)\n",
    "],name=\"Data_augmentation\")\n",
    "\n",
    "#Rescale Pixel Values\n",
    "preprocess_input = tf.keras.applications.mobilenet_v2.preprocess_input\n",
    "\n",
    "#MobileNet itself\n",
    "base_model = tf.keras.applications.MobileNetV2(input_shape = (IMG_SIZE[0],IMG_SIZE[1],3),\n",
    "                                                include_top=False,\n",
    "                                                  weights=\"imagenet\")\n",
    "base_model.trainable = False\n",
    "\n",
    "# global_average_layer = tf.keras.layers.GlobalAveragePooling2D()\n",
    "flatten_layer = tf.keras.layers.Flatten()\n",
    "\n",
    "prediction_layer = tf.keras.layers.Dense(len(DATA_CLASS),activation=\"softmax\")\n",
    "\n",
    "\n",
    "# # Assemble all together\n",
    "inputs = tf.keras.Input(shape=(IMG_SIZE[0],IMG_SIZE[1],3))\n",
    "x = data_augmentation(inputs)\n",
    "x = preprocess_input(x)\n",
    "x = base_model(x,training=False)\n",
    "x = flatten_layer(x)\n",
    "outputs = prediction_layer(x)\n",
    "model = tf.keras.Model(inputs,outputs)\n",
    "\n",
    "if show_detail == True:\n",
    "    print(\"MobileNet Model Created.\")\n",
    "    model.summary()"
   ]
  },
  {
   "cell_type": "code",
   "execution_count": 12,
   "id": "400242c6-a01e-45a9-99ef-354d7ae65aec",
   "metadata": {},
   "outputs": [],
   "source": [
    "# # Show Data Augmentation\n",
    "# imgs , _ = next(train_dataset)\n",
    "# imgs = data_augmentation(imgs)\n",
    "# imgs = imgs/255.\n",
    "# plot_imgs(imgs,_)"
   ]
  },
  {
   "cell_type": "code",
   "execution_count": 13,
   "id": "2c004007-07b4-4946-b408-1ef119eeebdc",
   "metadata": {},
   "outputs": [],
   "source": [
    "model.compile(optimizer = tf.keras.optimizers.Adam(learning_rate= learning_rate),loss = tf.keras.losses.binary_crossentropy, metrics=[\"accuracy\"])"
   ]
  },
  {
   "cell_type": "code",
   "execution_count": 19,
   "id": "6b79fbc4-e56a-401a-9031-7363e0524f88",
   "metadata": {},
   "outputs": [
    {
     "name": "stdout",
     "output_type": "stream",
     "text": [
      "12/12 [==============================] - 3s 224ms/step - loss: 0.9638 - accuracy: 0.5664\n",
      "initial loss: 0.96\n",
      "initial accuracy: 0.57\n"
     ]
    }
   ],
   "source": [
    "loss0,accuracy0 = model.evaluate(valid_dataset)\n",
    "\n",
    "print(\"initial loss: {:.2f}\".format(loss0))\n",
    "print(\"initial accuracy: {:.2f}\".format(accuracy0))"
   ]
  },
  {
   "cell_type": "code",
   "execution_count": 20,
   "id": "9f994d89-5852-48a2-98cc-49ac09eafc85",
   "metadata": {},
   "outputs": [
    {
     "name": "stdout",
     "output_type": "stream",
     "text": [
      "Epoch 1/10\n",
      "47/47 [==============================] - 10s 139ms/step - loss: 0.8078 - accuracy: 0.5580 - val_loss: 0.7515 - val_accuracy: 0.5854\n",
      "Epoch 2/10\n",
      "47/47 [==============================] - 7s 138ms/step - loss: 0.7575 - accuracy: 0.5904 - val_loss: 0.7385 - val_accuracy: 0.5962\n",
      "Epoch 3/10\n",
      "47/47 [==============================] - 7s 139ms/step - loss: 0.7170 - accuracy: 0.6269 - val_loss: 0.7206 - val_accuracy: 0.5908\n",
      "Epoch 4/10\n",
      "47/47 [==============================] - 6s 134ms/step - loss: 0.7216 - accuracy: 0.6120 - val_loss: 0.7196 - val_accuracy: 0.6070\n",
      "Epoch 5/10\n",
      "47/47 [==============================] - 7s 142ms/step - loss: 0.7079 - accuracy: 0.6289 - val_loss: 0.7064 - val_accuracy: 0.6152\n",
      "Epoch 6/10\n",
      "47/47 [==============================] - 7s 151ms/step - loss: 0.7004 - accuracy: 0.6370 - val_loss: 0.7018 - val_accuracy: 0.6125\n",
      "Epoch 7/10\n",
      "47/47 [==============================] - 6s 135ms/step - loss: 0.6968 - accuracy: 0.6343 - val_loss: 0.7013 - val_accuracy: 0.6233\n",
      "Epoch 8/10\n",
      "47/47 [==============================] - 7s 138ms/step - loss: 0.6807 - accuracy: 0.6498 - val_loss: 0.6933 - val_accuracy: 0.6314\n",
      "Epoch 9/10\n",
      "47/47 [==============================] - 6s 136ms/step - loss: 0.6700 - accuracy: 0.6451 - val_loss: 0.6888 - val_accuracy: 0.6396\n",
      "Epoch 10/10\n",
      "47/47 [==============================] - 7s 141ms/step - loss: 0.6674 - accuracy: 0.6606 - val_loss: 0.6839 - val_accuracy: 0.6341\n"
     ]
    }
   ],
   "source": [
    "history = model.fit(x=train_dataset, epochs=epochs, validation_data=valid_dataset, batch_size=BATCH_SIZE, shuffle=True)"
   ]
  },
  {
   "cell_type": "code",
   "execution_count": 84,
   "id": "0c2beef7-6f4c-4a8f-a95f-2895465043c3",
   "metadata": {},
   "outputs": [
    {
     "name": "stdout",
     "output_type": "stream",
     "text": [
      "12/12 [==============================] - 1s 106ms/step\n"
     ]
    }
   ],
   "source": [
    "predictions = model.predict(valid_dataset)"
   ]
  },
  {
   "cell_type": "code",
   "execution_count": 85,
   "id": "976f0d14-4352-43d1-b49f-e968f9ebcd30",
   "metadata": {
    "tags": []
   },
   "outputs": [],
   "source": [
    "y_pred=np.argmax(predictions,axis=-1)\n",
    "cm = confusion_matrix(y_true=valid_dataset.classes,y_pred=np.argmax(predictions,axis=-1))\n",
    "cm_container = convert_cm_to_container(cm)\n",
    "report = classification_report(y_true=valid_dataset.classes,y_pred=y_pred,target_names=DATA_CLASS)"
   ]
  },
  {
   "cell_type": "code",
   "execution_count": 161,
   "id": "133cec65-8313-4b83-989f-03ed0b56b3c5",
   "metadata": {},
   "outputs": [],
   "source": [
    "history_report = pd.read_csv(csv_path)\n",
    "history_report.loc[len(history_report)]=(time.ctime(time.time()),\n",
    "                                            model_name,\n",
    "                                            BATCH_SIZE,\n",
    "                                            epochs,\n",
    "                                            learning_rate,\n",
    "                                            report,\n",
    "                                            cm_container,\n",
    "                                            convert_list_to_str(acc),\n",
    "                                            convert_list_to_str(val_acc),\n",
    "                                            convert_list_to_str(loss),\n",
    "                                            convert_list_to_str(val_loss))\n",
    "history_report.to_csv(csv_path,index=False)"
   ]
  },
  {
   "cell_type": "code",
   "execution_count": 252,
   "id": "f610b5dd-e913-43c5-b120-bff7717f403b",
   "metadata": {},
   "outputs": [],
   "source": [
    "# history_report = pd.read_csv(csv_path)\n",
    "# columns = ['acc','val_acc','loss','val_loss']\n",
    "# for c in columns:\n",
    "#     temp = []\n",
    "#     for i in range(len(history_report)):\n",
    "#         temp.append(\"NaN\")\n",
    "#     history_report[c]=temp\n",
    "# history_report = history_report.drop(['Unnamed:0'],axis='columns')\n",
    "# history_report.to_csv(csv_path,index=False)"
   ]
  },
  {
   "cell_type": "code",
   "execution_count": 185,
   "id": "46813d04-9b3e-4709-b785-d90b0527d5ff",
   "metadata": {},
   "outputs": [],
   "source": [
    "history_report.to_csv(csv_path,index=False)"
   ]
  },
  {
   "cell_type": "code",
   "execution_count": 6,
   "id": "b12f27b7-f413-483c-ad74-42ff4de27d77",
   "metadata": {
    "tags": []
   },
   "outputs": [
    {
     "name": "stdout",
     "output_type": "stream",
     "text": [
      "╔═════════════════╦═══════════════════════════════════════════════════════╗\n",
      "║      index      ║                           -1                          ║\n",
      "╠═════════════════╬═══════════════════════════════════════════════════════╣\n",
      "║       Date      ║                Mon Oct 10 23:21:41 2022               ║\n",
      "╠═════════════════╬═══════════════════════════════════════════════════════╣\n",
      "║      Model      ║                       MobileNet                       ║\n",
      "╠═════════════════╬═══════════════════════════════════════════════════════╣\n",
      "║    Batch_size   ║                           32                          ║\n",
      "╠═════════════════╬═══════════════════════════════════════════════════════╣\n",
      "║      epochs     ║                           10                          ║\n",
      "╠═════════════════╬═══════════════════════════════════════════════════════╣\n",
      "║  Learning_rate  ║                         1e-05                         ║\n",
      "╠═════════════════╬═══════════════════════════════════════════════════════╣\n",
      "║ Training_Report ║               precision    recall  f1-score   support ║\n",
      "║                 ║                                                       ║\n",
      "║                 ║       Benign       0.56      0.61      0.59       215 ║\n",
      "║                 ║    Malignant       0.39      0.34      0.36       154 ║\n",
      "║                 ║                                                       ║\n",
      "║                 ║     accuracy                           0.50       369 ║\n",
      "║                 ║    macro avg       0.48      0.48      0.48       369 ║\n",
      "║                 ║ weighted avg       0.49      0.50      0.49       369 ║\n",
      "║                 ║                                                       ║\n",
      "╚═════════════════╩═══════════════════════════════════════════════════════╝\n",
      "index:-1\n"
     ]
    },
    {
     "data": {
      "image/png": "[encoded data removed]",
      "text/plain": [
       "<Figure size 432x432 with 2 Axes>"
      ]
     },
     "metadata": {
      "needs_background": "light"
     },
     "output_type": "display_data"
    },
    {
     "data": {
      "image/png": "[encoded data removed]",
      "text/plain": [
       "<Figure size 576x576 with 2 Axes>"
      ]
     },
     "metadata": {
      "needs_background": "light"
     },
     "output_type": "display_data"
    }
   ],
   "source": [
    "show_report(-1,show_plot=True)"
   ]
  },
  {
   "cell_type": "code",
   "execution_count": null,
   "id": "71b8d3f3-4e6d-4a0c-9e12-0d8c006689b1",
   "metadata": {},
   "outputs": [],
   "source": []
  }
 ],
 "metadata": {
  "kernelspec": {
   "display_name": "Python 3 (ipykernel)",
   "language": "python",
   "name": "python3"
  },
  "language_info": {
   "codemirror_mode": {
    "name": "ipython",
    "version": 3
   },
   "file_extension": ".py",
   "mimetype": "text/x-python",
   "name": "python",
   "nbconvert_exporter": "python",
   "pygments_lexer": "ipython3",
   "version": "3.7.13"
  },
  "vscode": {
   "interpreter": {
    "hash": "a9284b8818b26413b4cf6f022447783a065f1a033f1db1f934d59af150a0ac8b"
   }
  }
 },
 "nbformat": 4,
 "nbformat_minor": 5
}
